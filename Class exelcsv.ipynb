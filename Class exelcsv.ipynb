{
 "cells": [
  {
   "cell_type": "code",
   "execution_count": 2,
   "id": "226b2f32-2eb7-4a7f-92a1-1be20003e985",
   "metadata": {},
   "outputs": [
    {
     "name": "stdout",
     "output_type": "stream",
     "text": [
      "Name,Group Name, Ledger - Opening Balance ,Ledger Opening Balance - Dr/Cr,Bill - Date,Bill - Name, Bill - Amount ,Bill Amount - Dr/Cr,Address,State,Country,Pincode\n",
      "National Traders,Sundry Debtors,\" 15,200.00 \",Dr,,,,,,,,\n",
      "ABC Company Limited,Sundry Debtors,\" 10,000.00 \",Dr,10-Mar-2023,ABC/1,\" 1,000.00 \",Dr,15 MG Road,Karnataka,India,\n",
      ",,,,12-Mar-2023,ABC/2,\" 2,000.00 \",Dr,Near LIC building,,,\n",
      ",,,,14-Mar-2023,ABC/3,\" 7,000.00 \",Dr,Bangalore,,,\n",
      "Titan Corporation,Sundry Creditors,\" 15,000.00 \",Cr,20-Mar-2023,6542,\" 15,000.00 \",Cr,\"18, Raju Street\",Karnataka,India,\n",
      ",,,,,,,,1st main 3rd cross,,,\n",
      ",,,,,,,,JP nagar 8th Phase,,,\n",
      "HDFC Bank,Bank Accounts,\" 10,200.00 \",Dr,,,,,,,,\n",
      "Purchase,Purchase Accounts,,,,,,,,,,\n",
      "Sales,Sales Accounts,,,,,,,,,,\n",
      "Tax - CGST @ 9 %,Duties & Taxes,,,,,,,,,,\n",
      "Tax - SGST @ 9 %,Duties & Taxes,,,,,,,,,,\n",
      "Tax - IGST @ 18 %,Duties & Taxes,,,,,,,,,,\n",
      "United Traders,Sundry Debtors,,,,,,,,,,\n",
      "Discount,Direct Expenses,,,,,,,,,,\n",
      "Packaging Charges,Direct Expenses,,,,,,,,,,\n",
      "Local Sales,Sales Accounts,,,,,,,,,,\n",
      "Sales @18%,Sales Accounts,,,,,,,,,,\n",
      "Shipping Charges,Direct Expenses,,,,,,,,,,\n",
      "\n"
     ]
    }
   ],
   "source": [
    "# program to read csv file and return a list of list\n",
    "\n",
    "fileName = \"abc.csv\"\n",
    "\n",
    "# function to read csv file and return a list\n",
    "def read_csv(file_name):\n",
    " fileHandle = open(file_name,\"r\")\n",
    " data = fileHandle.read()\n",
    " fileHandle.close()\n",
    "\n",
    " # your logic\n",
    " op = data\n",
    " return op # it should return a list of list\n",
    "\n",
    "recievedData = read_csv(fileName)\n",
    "\n",
    "print(recievedData)\n"
   ]
  },
  {
   "cell_type": "code",
   "execution_count": null,
   "id": "2cca8582-cd76-4597-8a2d-f8d6da2ac1d3",
   "metadata": {},
   "outputs": [],
   "source": []
  }
 ],
 "metadata": {
  "kernelspec": {
   "display_name": "Python 3 (ipykernel)",
   "language": "python",
   "name": "python3"
  },
  "language_info": {
   "codemirror_mode": {
    "name": "ipython",
    "version": 3
   },
   "file_extension": ".py",
   "mimetype": "text/x-python",
   "name": "python",
   "nbconvert_exporter": "python",
   "pygments_lexer": "ipython3",
   "version": "3.12.4"
  }
 },
 "nbformat": 4,
 "nbformat_minor": 5
}
