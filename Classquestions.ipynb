{
 "cells": [
  {
   "cell_type": "markdown",
   "id": "61643728-8893-4eba-9b8c-db251a977e71",
   "metadata": {},
   "source": [
    "Write a fuction that takes one variable as input and return its sum , cumilative sum ,average . minimum and maximum value using for loop .\n",
    "Define function documentation using docs strings and show its user .\n"
   ]
  },
  {
   "cell_type": "code",
   "execution_count": 5,
   "id": "c5d06f54-338f-4662-8f56-671824ac4cf0",
   "metadata": {},
   "outputs": [
    {
     "name": "stdout",
     "output_type": "stream",
     "text": [
      "54\n",
      "[10, 12, 17, 50, 54]\n",
      "Average: 10.8\n",
      "Minimum in list 2\n",
      "Minimum in list 33\n"
     ]
    }
   ],
   "source": [
    "def sum(nums):\n",
    "    total = 0\n",
    "    # For SUMS\n",
    "    for i in range(0,len(nums)):\n",
    "        total = total + nums[i]\n",
    "\n",
    "    print(total)\n",
    "\n",
    "    # For Commulative sum\n",
    "    ctotal = 0\n",
    "    csum = []\n",
    "    for i in range(0,len(nums)):\n",
    "        ctotal = ctotal+nums[i]\n",
    "        csum.append(ctotal)\n",
    "\n",
    "    print(csum)\n",
    "\n",
    "    # For average\n",
    "    for i in range(0,len(nums)):\n",
    "        avg = total/len(nums)\n",
    "\n",
    "    print(\"Average:\",avg)\n",
    "\n",
    "    # for minimum\n",
    "    print(\"Minimum in list\",min(nums))\n",
    "\n",
    "    #for maximum\n",
    "    print(\"Minimum in list\",max(nums))\n",
    "    \n",
    "nums=[10,2,5,33,4]\n",
    "sum(nums)"
   ]
  },
  {
   "cell_type": "markdown",
   "id": "f39774b7-ed36-4f45-8e64-aaa9a66d827a",
   "metadata": {},
   "source": [
    " Write a program to take n input from user and store them as alist .\n",
    " Case 1 : n is defined by user .\n",
    " Case 2 : user can enter a number as per their requirements ."
   ]
  },
  {
   "cell_type": "code",
   "execution_count": 3,
   "id": "5824e595-8a36-448b-8ca9-908bb97ec588",
   "metadata": {},
   "outputs": [
    {
     "name": "stdin",
     "output_type": "stream",
     "text": [
      "Enter the number of inputs:  5\n",
      "Enter a number:  30\n",
      "Enter a number:  3\n",
      "Enter a number:  8\n",
      "Enter a number:  9\n",
      "Enter a number:  22\n"
     ]
    },
    {
     "name": "stdout",
     "output_type": "stream",
     "text": [
      "List of numbers: [30, 3, 8, 9, 22]\n"
     ]
    }
   ],
   "source": [
    "n = int(input(\"Enter the number of inputs: \"))\n",
    "nlist = []\n",
    "for i in range (n):\n",
    "      numbers = int(input(\"Enter a number: \"))\n",
    "      nlist.append(numbers)\n",
    "    \n",
    "print(\"List of numbers:\",nlist)"
   ]
  },
  {
   "cell_type": "code",
   "execution_count": null,
   "id": "cf3f4c65-ce21-4ae2-b085-fa6ef124c7e3",
   "metadata": {},
   "outputs": [],
   "source": []
  }
 ],
 "metadata": {
  "kernelspec": {
   "display_name": "Python 3 (ipykernel)",
   "language": "python",
   "name": "python3"
  },
  "language_info": {
   "codemirror_mode": {
    "name": "ipython",
    "version": 3
   },
   "file_extension": ".py",
   "mimetype": "text/x-python",
   "name": "python",
   "nbconvert_exporter": "python",
   "pygments_lexer": "ipython3",
   "version": "3.12.4"
  }
 },
 "nbformat": 4,
 "nbformat_minor": 5
}
