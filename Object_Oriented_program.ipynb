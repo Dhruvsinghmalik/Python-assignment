{
 "cells": [
  {
   "cell_type": "markdown",
   "id": "93cacbca-a763-4016-93a3-26fb6fddc147",
   "metadata": {},
   "source": [
    "## Object-Oriented Programming (OOP)\r",
    "#### \n",
    "> Object-Oriented Programming (OOP) was popularized by Alan Kay, who coined the term. He later reflected that a more accurate term would have been#####  “cell-oriented programming” to better align with the biological analogy that inspired the paradigm. Here’s why he thought so:"
   ]
  },
  {
   "cell_type": "code",
   "execution_count": 26,
   "id": "d585c4cb-bc21-4319-9cf7-8c9fedf589d1",
   "metadata": {},
   "outputs": [],
   "source": [
    "class Dog:\n",
    "    # Class attribute (shared by all instances)\n",
    "    species = \"Canis familiaris\"\n",
    "    \n",
    "    # Constructor (initializer)\n",
    "    def __init__(self, name, age):\n",
    "        # Instance attributes (unique to each instance)\n",
    "        self.name = name\n",
    "        self.age = age\n",
    "        #self.__age=age\n",
    "    # Instance method\n",
    "    def bark(self):\n",
    "        return f\"{self.name} says woof!\"\n",
    "    def __str__(self):\n",
    "        return f\"name = {self.name},age = {self.age}\"\n",
    "    \n",
    "    # Another instance method\n",
    "    def get_age(self):\n",
    "        return f\"{self.name} is {self.age} years old.\"\n",
    "                  "
   ]
  },
  {
   "cell_type": "code",
   "execution_count": 27,
   "id": "0386a0af-24b0-4aa5-9cf0-4eb2e3d07965",
   "metadata": {},
   "outputs": [],
   "source": [
    "# Creating instances (objects) of the Dog class\n",
    "dog1 = Dog(\"Buddy\", 3)\n",
    "dog2 = Dog(\"Charlie\", 5)\n",
    "\n",
    "#Accessing attributes and methods\n",
    "\n",
    "\n"
   ]
  },
  {
   "cell_type": "code",
   "execution_count": 28,
   "id": "cd6b47c6-e589-422f-ab7a-e9eeec236501",
   "metadata": {},
   "outputs": [
    {
     "name": "stdout",
     "output_type": "stream",
     "text": [
      "Buddy says woof!\n",
      "Charlie is 5 years old.\n",
      "Canis familiaris\n"
     ]
    }
   ],
   "source": [
    "print(dog1.bark())\n",
    "print(dog2.get_age())\n",
    "print(dog1.species)\n",
    "#print(dog1.__age())"
   ]
  },
  {
   "cell_type": "markdown",
   "id": "f8164d9f-60f0-4e17-9b8b-9c40ad660179",
   "metadata": {},
   "source": [
    "### Class Animal : "
   ]
  },
  {
   "cell_type": "code",
   "execution_count": 30,
   "id": "8269dfa2-0a00-42be-b820-10a4ec08a594",
   "metadata": {},
   "outputs": [
    {
     "ename": "TypeError",
     "evalue": "dog() takes no arguments",
     "output_type": "error",
     "traceback": [
      "\u001b[1;31m---------------------------------------------------------------------------\u001b[0m",
      "\u001b[1;31mTypeError\u001b[0m                                 Traceback (most recent call last)",
      "Cell \u001b[1;32mIn[30], line 22\u001b[0m\n\u001b[0;32m     19\u001b[0m     \u001b[38;5;28;01mdef\u001b[39;00m \u001b[38;5;21mmeu\u001b[39m(\u001b[38;5;28mself\u001b[39m):\n\u001b[0;32m     20\u001b[0m         \u001b[38;5;28;01mreturn\u001b[39;00m \u001b[38;5;124mf\u001b[39m\u001b[38;5;124m\"\u001b[39m\u001b[38;5;132;01m{\u001b[39;00m\u001b[38;5;28mself\u001b[39m\u001b[38;5;241m.\u001b[39mname\u001b[38;5;132;01m}\u001b[39;00m\u001b[38;5;124m says meu!\u001b[39m\u001b[38;5;124m\"\u001b[39m\n\u001b[1;32m---> 22\u001b[0m dog1 \u001b[38;5;241m=\u001b[39m dog(\u001b[38;5;124m\"\u001b[39m\u001b[38;5;124mBuddy\u001b[39m\u001b[38;5;124m\"\u001b[39m,\u001b[38;5;241m3\u001b[39m)\n\u001b[0;32m     23\u001b[0m cat1 \u001b[38;5;241m=\u001b[39m Cat(\u001b[38;5;124m\"\u001b[39m\u001b[38;5;124mCharlie\u001b[39m\u001b[38;5;124m\"\u001b[39m,\u001b[38;5;241m5\u001b[39m)\n\u001b[0;32m     25\u001b[0m \u001b[38;5;28mprint\u001b[39m(dog1)\n",
      "\u001b[1;31mTypeError\u001b[0m: dog() takes no arguments"
     ]
    }
   ],
   "source": [
    "class Animal:\n",
    "    def _init_(self,age,name):\n",
    "        self.name=name\n",
    "        self.age = age\n",
    "    def get_age(self):\n",
    "        return f\"{self.name} is {self.age} years old.\"\n",
    "    \n",
    "    def _str_(self):\n",
    "        return f\"name is {self.name}\\nage is {self.age}\"\n",
    "class Dog(Animal):\n",
    "    species = \"Canis familiaris\"\n",
    "\n",
    "    def bark(self):\n",
    "        return f\"{self.name} says woof!\"\n",
    "\n",
    "class Cat(Animal):\n",
    "    species =\"Cat species\"\n",
    "\n",
    "    def meu(self):\n",
    "        return f\"{self.name} says meu!\"\n",
    "\n",
    "dog1 = dog(\"Buddy\",3)\n",
    "cat1 = Cat(\"Charlie\",5)\n",
    "\n",
    "print(dog1)\n",
    "print(cat1)"
   ]
  },
  {
   "cell_type": "code",
   "execution_count": null,
   "id": "21b8899a-e21a-4d80-bc18-eeae024e3792",
   "metadata": {},
   "outputs": [],
   "source": []
  }
 ],
 "metadata": {
  "kernelspec": {
   "display_name": "Python 3 (ipykernel)",
   "language": "python",
   "name": "python3"
  },
  "language_info": {
   "codemirror_mode": {
    "name": "ipython",
    "version": 3
   },
   "file_extension": ".py",
   "mimetype": "text/x-python",
   "name": "python",
   "nbconvert_exporter": "python",
   "pygments_lexer": "ipython3",
   "version": "3.12.4"
  }
 },
 "nbformat": 4,
 "nbformat_minor": 5
}
