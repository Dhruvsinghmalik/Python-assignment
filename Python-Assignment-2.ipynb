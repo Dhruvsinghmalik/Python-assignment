{
 "cells": [
  {
   "cell_type": "markdown",
   "id": "af172f8f-ae2c-48d5-b218-e39270e284bf",
   "metadata": {},
   "source": [
    "## 1 Basic Function Implementation:\n",
    "#### Question - 1 Write a function greet that takes two arguments: name (a string) and greeting (a string with a default value of \"Hello\"). The function should return a greeting message."
   ]
  },
  {
   "cell_type": "code",
   "execution_count": 1,
   "id": "d385e825-9fa1-4052-b726-8557f289d970",
   "metadata": {},
   "outputs": [],
   "source": [
    "def greet(name,greeting):\n",
    "    return f\"hello {name}, {greeting}\""
   ]
  },
  {
   "cell_type": "code",
   "execution_count": 2,
   "id": "e568b927-d778-45f9-995c-d9e42784af05",
   "metadata": {},
   "outputs": [
    {
     "data": {
      "text/plain": [
       "'hello Dhruv, Good Afternoon'"
      ]
     },
     "execution_count": 2,
     "metadata": {},
     "output_type": "execute_result"
    }
   ],
   "source": [
    "greet(\"Dhruv\",\"Good Afternoon\")"
   ]
  },
  {
   "cell_type": "markdown",
   "id": "311d1b78-9075-419b-882e-071287a0a369",
   "metadata": {},
   "source": [
    "## 2 Named Arguments:\n",
    "#### Question - 2 Create a function create_profile that takes arguments for name, age, and city as named arguments. The function should return a string like \"Name: Alice, Age: 25, City: New York\". Ensure that the age argument has a default value of 18."
   ]
  },
  {
   "cell_type": "code",
   "execution_count": 3,
   "id": "9ecf22dc-a118-4ee6-8f70-a2cf7f71c724",
   "metadata": {},
   "outputs": [],
   "source": [
    "def create_profile (name,city,age=18):\n",
    "    return f\"Name :{name},Age: {age},City: {city}\""
   ]
  },
  {
   "cell_type": "code",
   "execution_count": 4,
   "id": "83e69e96-c675-400b-8260-00b5fc8cb29e",
   "metadata": {},
   "outputs": [
    {
     "data": {
      "text/plain": [
       "'Name :Dhruv,Age: 18,City: Dehradun'"
      ]
     },
     "execution_count": 4,
     "metadata": {},
     "output_type": "execute_result"
    }
   ],
   "source": [
    "create_profile(\"Dhruv\",\"Dehradun\")"
   ]
  },
  {
   "cell_type": "markdown",
   "id": "360e695e-ebba-4ff0-8ee1-3f56452fb5e2",
   "metadata": {},
   "source": [
    "## 3 **Using *args and kwargs:\n",
    "#### Question - 3 Write a function sum_numbers that takes any number of positional arguments (args) and keyword arguments (*kwargs). It should:\n",
    "Return the sum of all *args if they are numbers.\n",
    "\n",
    "Return a dictionary of all keyword arguments."
   ]
  },
  {
   "cell_type": "code",
   "execution_count": 25,
   "id": "f3883409-5c2c-494d-b3ef-c0c9829f6a88",
   "metadata": {},
   "outputs": [],
   "source": [
    "def sum_numbers(*args, **kwargs):\n",
    "    sum =0\n",
    "    for arg in args:\n",
    "        if isinstance(arg, (int, float)):\n",
    "            sum += arg\n",
    "\n",
    "    return sum, kwargs\n",
    "    \n",
    "    \n"
   ]
  },
  {
   "cell_type": "code",
   "execution_count": 26,
   "id": "f9b466a7-caf6-469e-8260-22673450320c",
   "metadata": {},
   "outputs": [
    {
     "name": "stdout",
     "output_type": "stream",
     "text": [
      "(65, {'x': 2, 'y': 5})\n"
     ]
    }
   ],
   "source": [
    "print(sum_numbers(10 , 25 , 30 , x=2, y=5))"
   ]
  },
  {
   "cell_type": "markdown",
   "id": "1924f035-d293-4776-a6a7-a5d580c9f748",
   "metadata": {},
   "source": [
    "## 4 Lambdas and Map:\n",
    "#### Question - 4 Write a function that uses map and a lambda to return a list where each element is squared. "
   ]
  },
  {
   "cell_type": "code",
   "execution_count": 5,
   "id": "4e143b02-0e6e-4552-a606-36cd820daf73",
   "metadata": {},
   "outputs": [
    {
     "name": "stdout",
     "output_type": "stream",
     "text": [
      "[9, 36, 64, 81]\n"
     ]
    }
   ],
   "source": [
    "def square_list(numbers):\n",
    "    return list(map(lambda x: x**2, numbers))\n",
    "print(square_list([3,6,8,9]))"
   ]
  },
  {
   "cell_type": "markdown",
   "id": "41bed1ca-276e-464c-8206-18caff6dbda3",
   "metadata": {},
   "source": [
    "## 5 Filter and Lambdas:\n",
    "#### Question - 5 Write a function that filters out all odd numbers from a list using filter and a lambda function"
   ]
  },
  {
   "cell_type": "code",
   "execution_count": 6,
   "id": "8416dd17-df5d-422d-97f4-414dc9d89120",
   "metadata": {},
   "outputs": [],
   "source": [
    "def odd_out(numbers):\n",
    "    odd = list(filter(lambda x: x%2 !=0, numbers))\n",
    "    print(odd)"
   ]
  },
  {
   "cell_type": "code",
   "execution_count": 7,
   "id": "16337960-36ed-47d0-91f4-ac9f6b4007d4",
   "metadata": {},
   "outputs": [
    {
     "name": "stdout",
     "output_type": "stream",
     "text": [
      "[1, 3, 5, 7, 9]\n"
     ]
    }
   ],
   "source": [
    "odd_out([1,2,3,4,5,6,7,8,9,10])"
   ]
  },
  {
   "cell_type": "markdown",
   "id": "df96f05a-4bcb-4d5f-b652-9e1912537865",
   "metadata": {},
   "source": [
    "## 6 Basic List Comprehension:\n",
    "#### Question -6 Create a list comprehension that takes a list of numbers and returns a list of their squares."
   ]
  },
  {
   "cell_type": "code",
   "execution_count": 9,
   "id": "5c25c65b-7cfe-4583-b4ad-890d6e0bfe9d",
   "metadata": {},
   "outputs": [
    {
     "name": "stdout",
     "output_type": "stream",
     "text": [
      "[4, 25, 49, 81, 81, 100, 144]\n"
     ]
    }
   ],
   "source": [
    "numbers = [2,5,7,9,9,10,12]\n",
    "\n",
    "squares = [x**2 for x in numbers]\n",
    "\n",
    "print(squares)"
   ]
  },
  {
   "cell_type": "markdown",
   "id": "6fad4750-0d71-4232-99b3-6e28e9f276ae",
   "metadata": {},
   "source": [
    "## 7 List Comprehension with Condition:\n",
    "#### Question - 7 Use a list comprehension to create a list of even numbers from 1 to 20 ."
   ]
  },
  {
   "cell_type": "code",
   "execution_count": 10,
   "id": "64f6c1d6-8207-44ac-aa9f-8b0036b4659f",
   "metadata": {},
   "outputs": [],
   "source": [
    "def even_out():\n",
    "    even=[x for x in range(1, 21) if x % 2 == 0]\n",
    "    return even"
   ]
  },
  {
   "cell_type": "code",
   "execution_count": 11,
   "id": "2d9ab47a-2020-446a-ac31-3b4612229231",
   "metadata": {},
   "outputs": [
    {
     "data": {
      "text/plain": [
       "[2, 4, 6, 8, 10, 12, 14, 16, 18, 20]"
      ]
     },
     "execution_count": 11,
     "metadata": {},
     "output_type": "execute_result"
    }
   ],
   "source": [
    "even_out()"
   ]
  },
  {
   "cell_type": "markdown",
   "id": "a51bb781-3a8f-4755-8ebd-6f095e88dd5a",
   "metadata": {},
   "source": [
    "## 8 Using os and time Modules:\n",
    "#### Question - 8  Write a function file_operations that creates a directory named \"test_folder\" using os.makedirs(). Then, pause the execution for 3 seconds using time.sleep(), and finally, delete the directory using os.rmdir()."
   ]
  },
  {
   "cell_type": "code",
   "execution_count": 12,
   "id": "7d6d3b6c-db80-4655-9242-d81cf6ab4868",
   "metadata": {},
   "outputs": [],
   "source": [
    "import os\n",
    "import time\n",
    "\n",
    "def file_operations():\n",
    "    os.makedirs(\"test_folder\")\n",
    "    time.sleep(3)\n",
    "    os.rmdir(\"test_folder\")\n",
    "file_operations()"
   ]
  },
  {
   "cell_type": "markdown",
   "id": "a81bb1fc-ad22-4232-ba7b-8778c685e371",
   "metadata": {},
   "source": [
    "## 9 Importing Specific Functions:\n",
    "#### Question -9 Write a Python script that imports only sleep from the time module and renames it to pause. Use it to pause execution for 2 seconds and print \"Paused execution...\"."
   ]
  },
  {
   "cell_type": "code",
   "execution_count": 13,
   "id": "87345656-a6ef-4c25-831b-f66ad37a954a",
   "metadata": {},
   "outputs": [
    {
     "name": "stdout",
     "output_type": "stream",
     "text": [
      "Paused execution\n"
     ]
    }
   ],
   "source": [
    "from time import sleep as pause\n",
    "\n",
    "pause(2)\n",
    "print(\"Paused execution\")"
   ]
  },
  {
   "cell_type": "markdown",
   "id": "5038f6aa-9125-4cae-86e1-54865c29b8e9",
   "metadata": {},
   "source": [
    "## 10 **Recursive Function with *args and kwargs (Flattening a List):\n",
    "#### Question - 10 Write a recursive function flatten_list that can flatten a nested list of any depth using *args and **kwargs"
   ]
  },
  {
   "cell_type": "code",
   "execution_count": 14,
   "id": "93b498ac-81b6-4852-9546-5dc6e84ca0f8",
   "metadata": {},
   "outputs": [
    {
     "name": "stdout",
     "output_type": "stream",
     "text": [
      "[1, 2, 3, 4, 5, 6, 7, 8, 9, 10]\n"
     ]
    }
   ],
   "source": [
    "def flatten_list(*args, **kwargs):\n",
    "    flat_list = []\n",
    "    \n",
    "    # Recursive helper function to flatten each element\n",
    "    def flatten(item):\n",
    "        if isinstance(item, list):\n",
    "            for sub_item in item:\n",
    "                flatten(sub_item)\n",
    "        else:\n",
    "            flat_list.append(item)\n",
    "    \n",
    "    # Flatten all the positional arguments\n",
    "    for arg in args:\n",
    "        flatten(arg)\n",
    "\n",
    "    \n",
    "    return flat_list\n",
    "\n",
    "result = flatten_list([1, [2, 3, [4, 5], 6], 7, [8, [9, 10]]])\n",
    "\n",
    "print(result)"
   ]
  },
  {
   "cell_type": "code",
   "execution_count": null,
   "id": "658cbf4d-855b-4cad-adf7-8d9718ff0d9b",
   "metadata": {},
   "outputs": [],
   "source": []
  }
 ],
 "metadata": {
  "kernelspec": {
   "display_name": "Python 3 (ipykernel)",
   "language": "python",
   "name": "python3"
  },
  "language_info": {
   "codemirror_mode": {
    "name": "ipython",
    "version": 3
   },
   "file_extension": ".py",
   "mimetype": "text/x-python",
   "name": "python",
   "nbconvert_exporter": "python",
   "pygments_lexer": "ipython3",
   "version": "3.12.4"
  }
 },
 "nbformat": 4,
 "nbformat_minor": 5
}
