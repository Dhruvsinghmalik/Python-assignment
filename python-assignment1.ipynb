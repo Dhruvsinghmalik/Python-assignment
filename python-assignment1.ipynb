{
 "cells": [
  {
   "cell_type": "markdown",
   "id": "ee0d88ed-ef1f-41d2-aeaa-d60c5c0c74cf",
   "metadata": {},
   "source": [
    "### 1. String Operations\n",
    " Write a Python program that takes a user's rst and last name as\r\n",
    "iinput and prints them in reverse order with a space between them\n",
    " ,Use at least two string methods and explain their purpose in the\r\n",
    " comments.."
   ]
  },
  {
   "cell_type": "code",
   "execution_count": 1,
   "id": "12b40764-1efa-450c-a824-fe0fc685db82",
   "metadata": {},
   "outputs": [
    {
     "name": "stdin",
     "output_type": "stream",
     "text": [
      "Enter your first name and last name : Dhruv Malik\n"
     ]
    }
   ],
   "source": [
    "Name = input(\"Enter your first name and last name :\") # it is done to take and store input\n",
    "rev = \" \" # it is done to store the reverse of the name"
   ]
  },
  {
   "cell_type": "code",
   "execution_count": 2,
   "id": "17eaf9e1-c8e3-4821-b611-c64ef1a037f0",
   "metadata": {},
   "outputs": [
    {
     "name": "stdout",
     "output_type": "stream",
     "text": [
      "kilaM vurhD \n"
     ]
    }
   ],
   "source": [
    "for i in Name:\n",
    "    rev = i + rev\n",
    "print(rev)"
   ]
  },
  {
   "cell_type": "markdown",
   "id": "89849091-88cb-4fc4-a3a9-917aea96bcc3",
   "metadata": {},
   "source": [
    "###  Numeric Data Types and Conversion Functions\n",
    "  Write a Python program that takes an input number from the user,\r\n",
    " converts it to different numeric data types (integer, oat, and\r\n",
    " complex), and displays the converted values.\r\n",
    " Explain the difference between these data types in comments."
   ]
  },
  {
   "cell_type": "code",
   "execution_count": 3,
   "id": "25735323-9536-4a36-b40a-e505eadcb1d1",
   "metadata": {},
   "outputs": [
    {
     "name": "stdin",
     "output_type": "stream",
     "text": [
      "Enter the number:  8\n"
     ]
    }
   ],
   "source": [
    "Num =input(\"Enter the number: \")"
   ]
  },
  {
   "cell_type": "code",
   "execution_count": 5,
   "id": "b07b8735-875a-4e25-ba6a-9809f02dbe39",
   "metadata": {},
   "outputs": [
    {
     "name": "stdout",
     "output_type": "stream",
     "text": [
      "Integer converted value : 8\n",
      "Float converted value : 8.0\n",
      "Complex converted value : (8+0j)\n"
     ]
    }
   ],
   "source": [
    "int_value= int(Num)\n",
    "float_value=float(Num) # it is used to integer value .\n",
    "complex_value=complex(Num) # it is used to store complex number\n",
    "\n",
    "print(f\"Integer converted value : {int_value}\")\n",
    "print(f\"Float converted value : {float_value}\")\n",
    "print(f\"Complex converted value : {complex_value}\") "
   ]
  },
  {
   "cell_type": "markdown",
   "id": "a804fb40-ecb4-45c5-89a2-ccbf624bf641",
   "metadata": {},
   "source": [
    "###  Simple Input and Output\n",
    " Create a Python script that calculates the area of a rectangle. The\r\n",
    " script should:\r\n",
    " Prompt the user to enter the length and width of the rectangle.\r\n",
    " Calculate the area.\r\n",
    " Display the result using print function."
   ]
  },
  {
   "cell_type": "code",
   "execution_count": 6,
   "id": "21a8c236-f73b-4b43-9261-ee671d760a42",
   "metadata": {},
   "outputs": [
    {
     "name": "stdin",
     "output_type": "stream",
     "text": [
      "Enter the length of the rectangle:  12\n",
      "Enter the width of the rectangle:  8\n"
     ]
    },
    {
     "name": "stdout",
     "output_type": "stream",
     "text": [
      "The area of the rectangle is: 96\n"
     ]
    }
   ],
   "source": [
    "length = int(input(\"Enter the length of the rectangle: \"))\n",
    "width = int(input(\"Enter the width of the rectangle: \"))\n",
    "\n",
    "# Calculate the area of the rectangle using formula \n",
    "area = length * width\n",
    "\n",
    "print(\"The area of the rectangle is:\", area) # Display the result\n"
   ]
  },
  {
   "cell_type": "markdown",
   "id": "96395ed9-aeb2-4c1b-84e3-0f8fb205fe34",
   "metadata": {},
   "source": [
    " ####  Modify the rectangle area program to format the output so that it  displays the area with two decimal places .ss"
   ]
  },
  {
   "cell_type": "code",
   "execution_count": 7,
   "id": "7db34376-72fa-4c87-b8b1-0cce0716bab1",
   "metadata": {},
   "outputs": [
    {
     "name": "stdout",
     "output_type": "stream",
     "text": [
      "area of the rectangle is 96.00\n"
     ]
    }
   ],
   "source": [
    "area = length * width\n",
    "float_area = format(area,\".2f\")\n",
    "print(f\"area of the rectangle is {float_area}\")"
   ]
  },
  {
   "cell_type": "markdown",
   "id": "bcf35848-2605-4572-8602-c4ef74f836eb",
   "metadata": {},
   "source": [
    "### Write a Python script that takes three numbers as input and prints their average using the % method for string formatting.\n",
    "Also, use the print function to display a message that states, \"The average of the three numbers is: [calculated average]\"."
   ]
  },
  {
   "cell_type": "code",
   "execution_count": 15,
   "id": "a2172c36-025d-4bcf-9f54-6c8010fa10d7",
   "metadata": {},
   "outputs": [
    {
     "name": "stdin",
     "output_type": "stream",
     "text": [
      "Enter the first number :  12\n",
      "Enter the second number :  86\n",
      "Enter the third number : 48\n"
     ]
    }
   ],
   "source": [
    "Num1= float(input(\"Enter the first number : \"))\n",
    "Num2= float(input(\"Enter the second number : \"))\n",
    "Num3= float(input(\"Enter the third number :\"))\n"
   ]
  },
  {
   "cell_type": "code",
   "execution_count": 16,
   "id": "648ae5fe-e60a-4ae5-9d6f-971dcde0f626",
   "metadata": {},
   "outputs": [
    {
     "name": "stdout",
     "output_type": "stream",
     "text": [
      "The average of the three number is :48.67\n"
     ]
    }
   ],
   "source": [
    "avg=(Num1+Num2+Num3)/3\n",
    "\n",
    "print(\"The average of the three number is :%.2f\" %avg)"
   ]
  },
  {
   "cell_type": "markdown",
   "id": "24b80eff-4784-4ebf-81dc-344389eba79f",
   "metadata": {},
   "source": [
    "## Part 3: Language Components\n"
   ]
  },
  {
   "cell_type": "markdown",
   "id": "81bcc46d-f4d4-4e9c-8d56-d3dac245f2b3",
   "metadata": {},
   "source": [
    "####  1. Control Flow (if Statements and Loops)\r",
    "#### \n",
    "Write a Python program that asks the user for a number and determines whether it is positive, negative, or zero\n",
    "#### Implement a loop that continues to ask the user for a number until they enter 'exit'.\n",
    "#### Use break to exit the loop and continue to prompt for a new number if the input is not 'exit'.."
   ]
  },
  {
   "cell_type": "code",
   "execution_count": 17,
   "id": "123e2bbe-f2bd-4243-8cc5-dbbf8a59444d",
   "metadata": {},
   "outputs": [
    {
     "name": "stdin",
     "output_type": "stream",
     "text": [
      "Enter the number:  24\n"
     ]
    },
    {
     "name": "stdout",
     "output_type": "stream",
     "text": [
      "number is positive\n"
     ]
    },
    {
     "name": "stdin",
     "output_type": "stream",
     "text": [
      "Enter the number:  99\n"
     ]
    },
    {
     "name": "stdout",
     "output_type": "stream",
     "text": [
      "number is positive\n"
     ]
    },
    {
     "name": "stdin",
     "output_type": "stream",
     "text": [
      "Enter the number:  -3\n"
     ]
    },
    {
     "name": "stdout",
     "output_type": "stream",
     "text": [
      "number is negative\n"
     ]
    },
    {
     "name": "stdin",
     "output_type": "stream",
     "text": [
      "Enter the number:  exit\n"
     ]
    }
   ],
   "source": [
    "while True:\n",
    "    in_value = input(\"Enter the number: \")\n",
    "\n",
    "    if in_value == \"exit\":\n",
    "        break\n",
    "    int_value = int(in_value)\n",
    "\n",
    "    if int_value > 0:\n",
    "        print(\"number is positive\")\n",
    "\n",
    "    elif int_value < 0:\n",
    "        print(\"number is negative\")\n",
    "\n",
    "    else:\n",
    "        print(\"number is zero\")"
   ]
  },
  {
   "cell_type": "markdown",
   "id": "474fcd28-c0b0-404c-b368-09b1850a0cfa",
   "metadata": {},
   "source": [
    "###  1. Relational and Logical Operators"
   ]
  },
  {
   "cell_type": "markdown",
   "id": "8b196d22-b0dd-4064-9f09-c09e0f1def12",
   "metadata": {},
   "source": [
    "####  Create a Python script that takes two numbers as input and prints  whether both numbers are even, odd, or one of each using relational and logical operators ."
   ]
  },
  {
   "cell_type": "code",
   "execution_count": 1,
   "id": "0671f2f6-aa25-455a-b25e-3b8c74ab7254",
   "metadata": {},
   "outputs": [
    {
     "name": "stdin",
     "output_type": "stream",
     "text": [
      "Enter the first value :  12\n",
      "Enter the second value :  9\n"
     ]
    }
   ],
   "source": [
    "first_value= int(input(\"Enter the first value : \"))\n",
    "second_value=int(input(\"Enter the second value : \"))"
   ]
  },
  {
   "cell_type": "code",
   "execution_count": 3,
   "id": "a743a161-2f58-448a-9c73-b90cb38be0bb",
   "metadata": {},
   "outputs": [
    {
     "name": "stdout",
     "output_type": "stream",
     "text": [
      "12 is even and 9 is odd\n"
     ]
    }
   ],
   "source": [
    "if (first_value % 2==0) and (second_value %2== 0):\n",
    "    print(f\"{first_value} and {second_value} both are even\") # n modula 2 = 0 then the no is even\n",
    "elif (first_value % 2 !=0) and (second_value % 2!=0) : # if n%2 is not  equal to 0 the it is odd no\n",
    "    print(f\"{first_value} and {second_value} both are odd\")\n",
    "else:\n",
    "    if first_value % 2 ==0:\n",
    "        print(f\"{first_value} is even and {second_value} is odd\")\n",
    "    else:\n",
    "        print(f\"{first_value} is odd and {second_value} is even\")\n",
    "        "
   ]
  },
  {
   "cell_type": "markdown",
   "id": "2827073d-4cdc-4509-9206-d244c8b8bb22",
   "metadata": {},
   "source": [
    "###  1. For Loop and Bitwise Operators"
   ]
  },
  {
   "cell_type": "markdown",
   "id": "74973cb4-a151-4e53-a4d2-b814ed70e708",
   "metadata": {},
   "source": [
    "####  Write a Python program that takes an integer input and prints its binary, octal, and hexadecimal equivalents using a for loop and bitwise operators"
   ]
  },
  {
   "cell_type": "code",
   "execution_count": 4,
   "id": "fdf79f5e-cdfe-4510-a5ad-81fd4466c3c1",
   "metadata": {},
   "outputs": [],
   "source": [
    "def convert(num):\n",
    "    # Converting to binary \n",
    "    binary = bin(num)\n",
    "\n",
    "    # Converting to octal \n",
    "    octal = oct(num)\n",
    "\n",
    "    # Converting to hexadecimal     \n",
    "    hexadecimal = hex(num)\n",
    "\n",
    "    print(f\"Binary: {binary}\")\n",
    "    print(f\"Octal: {octal}\")\n",
    "    print(f\"Hexadecimal: {hexadecimal}\")"
   ]
  },
  {
   "cell_type": "code",
   "execution_count": 5,
   "id": "f35c8ebf-b0ae-44c1-96b0-4c414d9f33eb",
   "metadata": {},
   "outputs": [
    {
     "name": "stdin",
     "output_type": "stream",
     "text": [
      "Enter an integer:  56\n"
     ]
    },
    {
     "name": "stdout",
     "output_type": "stream",
     "text": [
      "Binary: 0b111000\n",
      "Octal: 0o70\n",
      "Hexadecimal: 0x38\n"
     ]
    }
   ],
   "source": [
    "num = int(input(\"Enter an integer: \"))\n",
    "if num < 0:\n",
    "    print(\"Please enter a non-negative integer.\")\n",
    "else:\n",
    "    convert(num)"
   ]
  },
  {
   "cell_type": "code",
   "execution_count": null,
   "id": "33d0b994-67ef-4fa3-8714-abe16541816c",
   "metadata": {},
   "outputs": [],
   "source": []
  }
 ],
 "metadata": {
  "kernelspec": {
   "display_name": "Python 3 (ipykernel)",
   "language": "python",
   "name": "python3"
  },
  "language_info": {
   "codemirror_mode": {
    "name": "ipython",
    "version": 3
   },
   "file_extension": ".py",
   "mimetype": "text/x-python",
   "name": "python",
   "nbconvert_exporter": "python",
   "pygments_lexer": "ipython3",
   "version": "3.12.4"
  }
 },
 "nbformat": 4,
 "nbformat_minor": 5
}
